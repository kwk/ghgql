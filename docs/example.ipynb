{
 "cells": [
  {
   "cell_type": "markdown",
   "metadata": {},
   "source": [
    "# Example usage\n",
    "\n",
    "To use `ghgql` in a project:"
   ]
  },
  {
   "cell_type": "markdown",
   "metadata": {},
   "source": [
    "I've designed `ghgql` to work on query files rather than pure query strings. This is fully intentional to not get into the habit of putting query strings all around in the code. Instead when the queries live in files we can validate them agains Github's GraphQL schema.\n",
    "\n",
    "Long story short, for the purpose of this demo we need a `get_query_as_file` function that converts a graphql string to a graphql file with the same content:"
   ]
  },
  {
   "cell_type": "code",
   "execution_count": 1,
   "metadata": {},
   "outputs": [],
   "source": [
    "from contextlib import contextmanager\n",
    "from tempfile import NamedTemporaryFile\n",
    "\n",
    "@contextmanager\n",
    "def get_query_as_file(query: str) -> str:\n",
    "    \"\"\"\n",
    "    Returns a temporary filename with the given query written to it.\n",
    "    Use this as a context manager:\n",
    "\n",
    "        with get_query_as_file(query=\"query {}\") as filename:\n",
    "            ghapi query_from_file(filename)\n",
    "    \"\"\"\n",
    "    file_handle = NamedTemporaryFile(mode=\"w+\", encoding=\"utf-8\")\n",
    "    file_handle.writelines(query)\n",
    "    file_handle.flush()\n",
    "    try:\n",
    "        yield file_handle.name\n",
    "    finally:\n",
    "        file_handle.close()"
   ]
  },
  {
   "cell_type": "markdown",
   "metadata": {},
   "source": [
    "Then we can convert a query like this:"
   ]
  },
  {
   "cell_type": "code",
   "execution_count": 2,
   "metadata": {},
   "outputs": [],
   "source": [
    "query = \"\"\"\n",
    "query ($searchQuery: String!) {\n",
    "  search(query: $searchQuery, type: ISSUE, first: 1) {\n",
    "    edges {\n",
    "      node {\n",
    "        ... on Issue {\n",
    "          id\n",
    "          number\n",
    "          title\n",
    "          url\n",
    "        }\n",
    "      }\n",
    "    }\n",
    "  }\n",
    "}\n",
    "\"\"\"\n"
   ]
  },
  {
   "cell_type": "markdown",
   "metadata": {},
   "source": [
    "and use it as a context manager to query for the first issue in the `llvm/llvm-project` repository:"
   ]
  },
  {
   "cell_type": "code",
   "execution_count": 3,
   "metadata": {},
   "outputs": [
    {
     "name": "stdout",
     "output_type": "stream",
     "text": [
      "[{'node': {'id': 'I_kwDOHicqdc5RG-tC',\n",
      "           'number': 16,\n",
      "           'title': 'llvm/llvm-project',\n",
      "           'url': 'https://github.com/KhushP786/open-sauced-goals/issues/16'}}]\n"
     ]
    }
   ],
   "source": [
    "import os\n",
    "from pprint import pprint\n",
    "import ghgql\n",
    "\n",
    "with ghgql.GithubGraphQL(token=os.getenv(\"GITHUB_TOKEN\")) as ghapi:\n",
    "    with get_query_as_file(query) as filename:\n",
    "      result = ghapi.query_from_file(filename=filename, variables={\"searchQuery\": \"llvm/llvm-project\"})\n",
    "      pprint(result.get(\"search.edges\"))"
   ]
  },
  {
   "cell_type": "markdown",
   "metadata": {},
   "source": [
    "I know this looks a bit weird but usually when you have your queries stored in files you can get rid of the inner `with`-context. "
   ]
  }
 ],
 "metadata": {
  "kernelspec": {
   "display_name": "Python 3 (ipykernel)",
   "language": "python",
   "name": "python3"
  },
  "language_info": {
   "codemirror_mode": {
    "name": "ipython",
    "version": 3
   },
   "file_extension": ".py",
   "mimetype": "text/x-python",
   "name": "python",
   "nbconvert_exporter": "python",
   "pygments_lexer": "ipython3",
   "version": "3.9.13"
  },
  "vscode": {
   "interpreter": {
    "hash": "e7370f93d1d0cde622a1f8e1c04877d8463912d04d973331ad4851f04de6915a"
   }
  }
 },
 "nbformat": 4,
 "nbformat_minor": 4
}
