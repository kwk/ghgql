{
 "cells": [
  {
   "cell_type": "markdown",
   "metadata": {},
   "source": [
    "# Example usage\n",
    "\n",
    "To use `ghgql` in a project:"
   ]
  },
  {
   "cell_type": "markdown",
   "metadata": {},
   "source": [
    "I've designed `ghgql` to work on query files rather than pure query strings. This is fully intentional to not get into the habit of putting query strings all around in the code. Instead when the queries live in files we can validate them agains Github's GraphQL schema.\n",
    "\n",
    "Long story short, instead of using `ghgql.GithubGraphQL.query()` you should use `ghgql.GithubGraphQL.query_from_file()`!"
   ]
  },
  {
   "cell_type": "markdown",
   "metadata": {},
   "source": [
    "# Running our first query\n",
    "\n",
    "Suppose we have the following query to fetch one issue from the `llvm/llvm-project` repository:"
   ]
  },
  {
   "cell_type": "code",
   "execution_count": 1,
   "metadata": {},
   "outputs": [],
   "source": [
    "query = \"\"\"\n",
    "query ($searchQuery: String!) {\n",
    "  search(query: $searchQuery, type: ISSUE, first: 1) {\n",
    "    edges {\n",
    "      node {\n",
    "        ... on Issue {\n",
    "          id\n",
    "          number\n",
    "          title\n",
    "          url\n",
    "        }\n",
    "      }\n",
    "    }\n",
    "  }\n",
    "}\n",
    "\"\"\""
   ]
  },
  {
   "cell_type": "markdown",
   "metadata": {},
   "source": [
    "This is how we can use it with `ghgql`:"
   ]
  },
  {
   "cell_type": "code",
   "execution_count": 2,
   "metadata": {
    "scrolled": true
   },
   "outputs": [],
   "source": [
    "import os\n",
    "import ghgql\n",
    "\n",
    "with ghgql.GithubGraphQL(token=os.getenv(\"GITHUB_TOKEN\")) as ghapi:\n",
    "    result = ghapi.query(query=query, variables={\"searchQuery\": \"llvm/llvm-project\"})"
   ]
  },
  {
   "cell_type": "markdown",
   "metadata": {},
   "source": [
    "## Easy inspection of results\n",
    "\n",
    "The main thing that this library does apart from querying the Github GraphQL API is to help you access elements in the result of a query. Let's first look at how the `result` looks like:"
   ]
  },
  {
   "cell_type": "code",
   "execution_count": 3,
   "metadata": {
    "scrolled": true
   },
   "outputs": [
    {
     "data": {
      "text/plain": [
       "{'data': {'search': {'edges': [{'node': {'id': 'I_kwDOHicqdc5RG-tC',\n",
       "      'number': 16,\n",
       "      'title': 'llvm/llvm-project',\n",
       "      'url': 'https://github.com/KhushP786/open-sauced-goals/issues/16'}}]}}}"
      ]
     },
     "execution_count": 3,
     "metadata": {},
     "output_type": "execute_result"
    }
   ],
   "source": [
    "    result"
   ]
  },
  {
   "cell_type": "markdown",
   "metadata": {},
   "source": [
    "Notice that result is a dictionary with a top-level `\"data\"` key. This indicates that there are no errors. if there were errors, we would see a top-level `errors` element.\n",
    "\n",
    "### Convenient access\n",
    "\n",
    "The `ghgql` library tries to make it easy to query for nested results under the nested `\"data\"` key by providing a `get(name, default)` method. Here is how it works: "
   ]
  },
  {
   "cell_type": "markdown",
   "metadata": {},
   "source": [
    "Let's first query for the `edges` key the data element by using the `get()` method of the `result`: "
   ]
  },
  {
   "cell_type": "code",
   "execution_count": 4,
   "metadata": {
    "scrolled": false
   },
   "outputs": [
    {
     "data": {
      "text/plain": [
       "[{'node': {'id': 'I_kwDOHicqdc5RG-tC',\n",
       "   'number': 16,\n",
       "   'title': 'llvm/llvm-project',\n",
       "   'url': 'https://github.com/KhushP786/open-sauced-goals/issues/16'}}]"
      ]
     },
     "execution_count": 4,
     "metadata": {},
     "output_type": "execute_result"
    }
   ],
   "source": [
    "    result.get(\"search.edges\")"
   ]
  },
  {
   "cell_type": "markdown",
   "metadata": {},
   "source": [
    "Now, you could argue that this is not super helpful because you could have written:"
   ]
  },
  {
   "cell_type": "code",
   "execution_count": 5,
   "metadata": {},
   "outputs": [
    {
     "data": {
      "text/plain": [
       "[{'node': {'id': 'I_kwDOHicqdc5RG-tC',\n",
       "   'number': 16,\n",
       "   'title': 'llvm/llvm-project',\n",
       "   'url': 'https://github.com/KhushP786/open-sauced-goals/issues/16'}}]"
      ]
     },
     "execution_count": 5,
     "metadata": {},
     "output_type": "execute_result"
    }
   ],
   "source": [
    "    result[\"data\"][\"search\"][\"edges\"]"
   ]
  },
  {
   "cell_type": "markdown",
   "metadata": {},
   "source": [
    "And while this is true, we're doing a bit more under the covers which we'll discuss in the next sections!"
   ]
  },
  {
   "cell_type": "markdown",
   "metadata": {},
   "source": [
    "### Defaults\n",
    "When you query for something that doesn't exist, you'll get at `KeyError` exception:"
   ]
  },
  {
   "cell_type": "code",
   "execution_count": 6,
   "metadata": {
    "scrolled": true
   },
   "outputs": [
    {
     "name": "stdout",
     "output_type": "stream",
     "text": [
      "'key \"search.non.existing.key\" is not found and default is not present'\n"
     ]
    }
   ],
   "source": [
    "    try:\n",
    "        result.get(\"search.non.existing.key\")\n",
    "    except KeyError as ex:\n",
    "        print(str(ex))"
   ]
  },
  {
   "cell_type": "markdown",
   "metadata": {},
   "source": [
    "Now, as the exception indicates, we haven't specified a `default` that the `get()` function could have used in case we want to ignore a non-existing key. Let's do that: "
   ]
  },
  {
   "cell_type": "code",
   "execution_count": 7,
   "metadata": {},
   "outputs": [
    {
     "data": {
      "text/plain": [
       "42"
      ]
     },
     "execution_count": 7,
     "metadata": {},
     "output_type": "execute_result"
    }
   ],
   "source": [
    "    result.get(\"search.non.existing.key\", default=42)"
   ]
  },
  {
   "cell_type": "markdown",
   "metadata": {},
   "source": [
    "Notice that the exception is gone because we have specified a `default` parameter."
   ]
  },
  {
   "cell_type": "markdown",
   "metadata": {},
   "source": [
    "### Handle errors\n",
    "\n",
    "God forbid, but there might be errors when you're writing a GraphQL query. Let's query github with a completely invalid query and inspect the results: "
   ]
  },
  {
   "cell_type": "code",
   "execution_count": 8,
   "metadata": {},
   "outputs": [
    {
     "name": "stdout",
     "output_type": "stream",
     "text": [
      "{'errors': [{'message': 'Parse error on \"Yes\" (IDENTIFIER) at [1, 1]', 'locations': [{'line': 1, 'column': 1}]}]}\n"
     ]
    }
   ],
   "source": [
    "query=\"Yes, I'm invalid!\"\n",
    "with ghgql.GithubGraphQL(token=os.getenv(\"GITHUB_TOKEN\")) as ghapi:\n",
    "    result = ghapi.query(query=query, variables={\"searchQuery\": \"llvm/llvm-project\"})\n",
    "    print(result)"
   ]
  },
  {
   "cell_type": "markdown",
   "metadata": {},
   "source": [
    "Notice that ther no longer is a `data` key on the top-level of the `result` dictionary. We can expect a `RuntimeError` to be raised when querying for anything, with and without a `default`. This is because `errors` have to deal with first!"
   ]
  },
  {
   "cell_type": "code",
   "execution_count": 9,
   "metadata": {},
   "outputs": [
    {
     "name": "stdout",
     "output_type": "stream",
     "text": [
      "errors are present\n"
     ]
    }
   ],
   "source": [
    "    try:\n",
    "        result.get(\"search.edges\")\n",
    "    except RuntimeError as ex:\n",
    "        print(str(ex))"
   ]
  },
  {
   "cell_type": "markdown",
   "metadata": {},
   "source": [
    "#### Result.errors and Result.data\n",
    "You can of course check the result for `errors` yourself. Here are a few ways to do this:"
   ]
  },
  {
   "cell_type": "code",
   "execution_count": 10,
   "metadata": {},
   "outputs": [
    {
     "name": "stdout",
     "output_type": "stream",
     "text": [
      "[{'message': 'Parse error on \"Yes\" (IDENTIFIER) at [1, 1]', 'locations': [{'line': 1, 'column': 1}]}]\n",
      "[{'message': 'Parse error on \"Yes\" (IDENTIFIER) at [1, 1]', 'locations': [{'line': 1, 'column': 1}]}]\n"
     ]
    }
   ],
   "source": [
    "    # The usual safe way to access the dict\n",
    "    if \"errors\" in result:\n",
    "        print(result[\"errors\"])\n",
    "    \n",
    "    # The convenient way through a property on the Result class\n",
    "    if result.errors != None:\n",
    "        print(result.errors)"
   ]
  },
  {
   "cell_type": "markdown",
   "metadata": {},
   "source": [
    "The `result.errors` is a property that you can always query even when there's no `\"errors\"` top-level key in the result. It returns `None` when there are no errors. The same is true for `result.data` which of course returns the `result[\"data\"]` value or `None` if `\"data\"` doesn't exist as a top-level key."
   ]
  },
  {
   "cell_type": "markdown",
   "metadata": {},
   "source": [
    "# Conclusion\n",
    "\n",
    "`ghgql` provides ways to query the Github GraphQL and allows for easy inspection of the resulting objects.\n",
    "\n",
    "TODO(kwk): In the future we can show how mutations work with `ghgql`."
   ]
  }
 ],
 "metadata": {
  "kernelspec": {
   "display_name": "Python 3 (ipykernel)",
   "language": "python",
   "name": "python3"
  },
  "language_info": {
   "codemirror_mode": {
    "name": "ipython",
    "version": 3
   },
   "file_extension": ".py",
   "mimetype": "text/x-python",
   "name": "python",
   "nbconvert_exporter": "python",
   "pygments_lexer": "ipython3",
   "version": "3.9.13"
  },
  "vscode": {
   "interpreter": {
    "hash": "e7370f93d1d0cde622a1f8e1c04877d8463912d04d973331ad4851f04de6915a"
   }
  }
 },
 "nbformat": 4,
 "nbformat_minor": 4
}
