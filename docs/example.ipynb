{
 "cells": [
  {
   "cell_type": "markdown",
   "metadata": {},
   "source": [
    "# Example usage\n",
    "\n",
    "To use `ghgql` in a project:"
   ]
  },
  {
   "cell_type": "markdown",
   "metadata": {},
   "source": [
    "I've designed `ghgql` to work on query files rather than pure query strings. This is fully intentional to not get into the habit of putting query strings all around in the code. Instead when the queries live in files we can validate them agains Github's GraphQL schema.\n",
    "\n",
    "Long story short, instead of using `ghgql.GithubGraphQL.query()` you should use `ghgql.GithubGraphQL.query_from_file()`!"
   ]
  },
  {
   "cell_type": "markdown",
   "metadata": {},
   "source": [
    "# Running our first query\n",
    "\n",
    "Suppose we have the following query to fetch the last three issues `kwk/ghgql` repository:"
   ]
  },
  {
   "cell_type": "code",
   "execution_count": 1,
   "metadata": {},
   "outputs": [],
   "source": [
    "query = \"\"\"\n",
    "query ($owner: String!, $repo: String!) {\n",
    "  repository(owner: $owner, name: $repo) {\n",
    "    issues(last: 3) {\n",
    "      edges {\n",
    "        node {\n",
    "          title\n",
    "          state\n",
    "          author {\n",
    "            login\n",
    "          }\n",
    "        }\n",
    "      }\n",
    "      totalCount\n",
    "    }\n",
    "  }\n",
    "}\n",
    "\"\"\""
   ]
  },
  {
   "cell_type": "markdown",
   "metadata": {},
   "source": [
    "This is how we can use it with `ghgql`:"
   ]
  },
  {
   "cell_type": "code",
   "execution_count": 2,
   "metadata": {
    "scrolled": true
   },
   "outputs": [],
   "source": [
    "import os\n",
    "import ghgql\n",
    "\n",
    "with ghgql.GithubGraphQL(token=os.getenv(\"GITHUB_TOKEN\")) as ghapi:\n",
    "    result = ghapi.query(query=query, variables={\"owner\": \"kwk\", \"repo\": \"ghgql\"})"
   ]
  },
  {
   "cell_type": "markdown",
   "metadata": {},
   "source": [
    "## Easy inspection of results\n"
   ]
  },
  {
   "cell_type": "code",
   "execution_count": 3,
   "metadata": {
    "scrolled": true
   },
   "outputs": [
    {
     "name": "stdout",
     "output_type": "stream",
     "text": [
      "{'data': {'repository': {'issues': {'edges': [{'node': {'author': {'login': 'kwk'},\n",
      "                                                        'state': 'CLOSED',\n",
      "                                                        'title': 'First '\n",
      "                                                                 'entry'}},\n",
      "                                              {'node': {'author': {'login': 'tru'},\n",
      "                                                        'state': 'CLOSED',\n",
      "                                                        'title': 'Token not '\n",
      "                                                                 'set to the '\n",
      "                                                                 'session if '\n",
      "                                                                 'not used as '\n",
      "                                                                 'a '\n",
      "                                                                 'contextmanager'}},\n",
      "                                              {'node': {'author': {'login': 'tru'},\n",
      "                                                        'state': 'OPEN',\n",
      "                                                        'title': 'Let '\n",
      "                                                                 'result.get() '\n",
      "                                                                 'return a '\n",
      "                                                                 'Result or '\n",
      "                                                                 'provide some '\n",
      "                                                                 'other way to '\n",
      "                                                                 'use the '\n",
      "                                                                 'get() '\n",
      "                                                                 'function on '\n",
      "                                                                 'sub '\n",
      "                                                                 'dicts.'}}],\n",
      "                                    'totalCount': 4}}}}\n"
     ]
    }
   ],
   "source": [
    "    from pprint import pprint\n",
    "    pprint(result)"
   ]
  },
  {
   "cell_type": "markdown",
   "metadata": {},
   "source": [
    "Notice that result is a dictionary with a top-level `\"data\"` key. This indicates that there are no errors. if there were errors, we would see a top-level `errors` element.\n",
    "\n",
    "### Convenient access\n",
    "\n",
    "The `ghgql` library advocates the use of the [`fnc`](https://pypi.org/project/fnc/) library to query nested results. Let's import `fnc` really quick. For your convenience we've made `fnc` a dependency of `ghgql`."
   ]
  },
  {
   "cell_type": "code",
   "execution_count": 4,
   "metadata": {},
   "outputs": [],
   "source": [
    "    import fnc"
   ]
  },
  {
   "cell_type": "markdown",
   "metadata": {},
   "source": [
    "Let's say we want to query for the states of all issues."
   ]
  },
  {
   "cell_type": "code",
   "execution_count": 5,
   "metadata": {
    "scrolled": false
   },
   "outputs": [
    {
     "name": "stdout",
     "output_type": "stream",
     "text": [
      "['CLOSED', 'CLOSED', 'OPEN']\n"
     ]
    }
   ],
   "source": [
    "    issues = fnc.get(\"data.repository.issues.edges\", result)\n",
    "    states = fnc.map(\"node.state\", issues)\n",
    "    pprint(list(states))"
   ]
  },
  {
   "cell_type": "markdown",
   "metadata": {},
   "source": [
    "### Handle errors\n",
    "\n",
    "God forbid, but there might be errors when you're writing a GraphQL query. Let's query github with a completely invalid query and inspect the results: "
   ]
  },
  {
   "cell_type": "code",
   "execution_count": 6,
   "metadata": {},
   "outputs": [
    {
     "name": "stdout",
     "output_type": "stream",
     "text": [
      "{'errors': [{'locations': [{'column': 1, 'line': 1}],\n",
      "             'message': 'Parse error on \"Yes\" (IDENTIFIER) at [1, 1]'}]}\n"
     ]
    }
   ],
   "source": [
    "query=\"Yes, I'm invalid!\"\n",
    "with ghgql.GithubGraphQL(token=os.getenv(\"GITHUB_TOKEN\")) as ghapi:\n",
    "    result = ghapi.query(query=query, variables={\"searchQuery\": \"llvm/llvm-project\"})\n",
    "    pprint(result)"
   ]
  },
  {
   "cell_type": "markdown",
   "metadata": {},
   "source": [
    "Notice that ther no longer is a `data` key on the top-level of the `result` dictionary. It is your responsibility to query for the errors and then handle it as you like."
   ]
  },
  {
   "cell_type": "code",
   "execution_count": 7,
   "metadata": {},
   "outputs": [
    {
     "name": "stdout",
     "output_type": "stream",
     "text": [
      "ERROR: {'message': 'Parse error on \"Yes\" (IDENTIFIER) at [1, 1]', 'locations': [{'line': 1, 'column': 1}]}\n"
     ]
    }
   ],
   "source": [
    "    if fnc.has(\"errors\", result):\n",
    "        print(\"ERROR: {}\".format(RuntimeError(fnc.get(\"errors[0]\", result))))"
   ]
  },
  {
   "cell_type": "markdown",
   "metadata": {},
   "source": [
    "I you prefer getting an exception, you can tell `ghgql` to throw one in case of an error. There are two options:\n",
    "\n",
    "1. When constructing the GithubGraphQL object so that all failing queries throw and exception.\n",
    "2. Per query"
   ]
  },
  {
   "cell_type": "code",
   "execution_count": 8,
   "metadata": {},
   "outputs": [
    {
     "name": "stdout",
     "output_type": "stream",
     "text": [
      "Caught exception: Parse error on \"Yes\" (IDENTIFIER) at [1, 1]\n"
     ]
    }
   ],
   "source": [
    "# One for all\n",
    "query=\"Yes, I'm invalid!\"\n",
    "with ghgql.GithubGraphQL(token=os.getenv(\"GITHUB_TOKEN\"), raise_on_error=True) as ghapi:\n",
    "    try:\n",
    "        result = ghapi.query(query=query, variables={\"searchQuery\": \"llvm/llvm-project\"})\n",
    "    except RuntimeError as ex:\n",
    "        print(f\"Caught exception: {str(ex)}\")"
   ]
  },
  {
   "cell_type": "code",
   "execution_count": 9,
   "metadata": {},
   "outputs": [
    {
     "name": "stdout",
     "output_type": "stream",
     "text": [
      "Caught exception: Parse error on \"Yes\" (IDENTIFIER) at [1, 1]\n"
     ]
    }
   ],
   "source": [
    "# Per query\n",
    "query=\"Yes, I'm invalid!\"\n",
    "with ghgql.GithubGraphQL(token=os.getenv(\"GITHUB_TOKEN\")) as ghapi:\n",
    "    try:\n",
    "        result = ghapi.query(query=query, variables={\"searchQuery\": \"llvm/llvm-project\"}, raise_on_error=True)\n",
    "    except RuntimeError as ex:\n",
    "        print(f\"Caught exception: {str(ex)}\")"
   ]
  },
  {
   "cell_type": "markdown",
   "metadata": {},
   "source": [
    "# Conclusion\n",
    "\n",
    "`ghgql` provides ways to query the Github GraphQL and allows for easy inspection of the resulting objects with the help of [`fnc`](https://pypi.org/project/fnc/).\n",
    "\n",
    "TODO(kwk): In the future we can show how mutations work with `ghgql`."
   ]
  }
 ],
 "metadata": {
  "kernelspec": {
   "display_name": "Python 3 (ipykernel)",
   "language": "python",
   "name": "python3"
  },
  "language_info": {
   "codemirror_mode": {
    "name": "ipython",
    "version": 3
   },
   "file_extension": ".py",
   "mimetype": "text/x-python",
   "name": "python",
   "nbconvert_exporter": "python",
   "pygments_lexer": "ipython3",
   "version": "3.9.13"
  },
  "vscode": {
   "interpreter": {
    "hash": "e7370f93d1d0cde622a1f8e1c04877d8463912d04d973331ad4851f04de6915a"
   }
  }
 },
 "nbformat": 4,
 "nbformat_minor": 4
}
